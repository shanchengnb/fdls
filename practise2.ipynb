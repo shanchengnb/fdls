{
 "cells": [
  {
   "cell_type": "code",
   "execution_count": 1,
   "id": "09505477-64a7-4103-b486-37e0589fd3fc",
   "metadata": {},
   "outputs": [
    {
     "ename": "SyntaxError",
     "evalue": "invalid syntax (544414526.py, line 3)",
     "output_type": "error",
     "traceback": [
      "\u001b[1;36m  Input \u001b[1;32mIn [1]\u001b[1;36m\u001b[0m\n\u001b[1;33m    3pi = 3.14159*3   # ??\u001b[0m\n\u001b[1;37m     ^\u001b[0m\n\u001b[1;31mSyntaxError\u001b[0m\u001b[1;31m:\u001b[0m invalid syntax\n"
     ]
    }
   ],
   "source": [
    "Pi = 3.14159      # Valid Python\n",
    "pi = 3.14159      # Valid Python\n",
    "3pi = 3.14159*3   # UnValid Python\n",
    "pi_2 = 3.14159**2 # Valid Python\n",
    "pi^2 = 3.14159**2 # UnValid Python\n",
    "my radius = 5     # UnValid Python\n",
    "My_Radius = 5     # Valid Python\n",
    "class = 5         # UnValid Python"
   ]
  },
  {
   "cell_type": "code",
   "execution_count": 2,
   "id": "978f54ea-92dc-4f75-83a4-d196705d5f7d",
   "metadata": {},
   "outputs": [
    {
     "name": "stdout",
     "output_type": "stream",
     "text": [
      "4\n",
      "22\n",
      "22\n",
      "16\n",
      "0.5\n",
      "<class 'str'>\n",
      "<class 'int'>\n",
      "<class 'int'>\n",
      "<class 'float'>\n"
     ]
    }
   ],
   "source": [
    "x = '2'\n",
    "y = z = 2\n",
    "\n",
    "print(y * z)    # 4\n",
    "print(x * y)    # 22\n",
    "print(x + x)    # 22\n",
    "print((y+z)**z) # 16\n",
    "print(y/(y+z))  # 0.5\n",
    "\n",
    "print( type(x * y) )    # ??\n",
    "print( type(y * z) )    # ??\n",
    "print( type((y+z)**z) ) # ??\n",
    "print( type(y/(y+z)) )  # ??"
   ]
  },
  {
   "cell_type": "code",
   "execution_count": 5,
   "id": "9c040146-4eed-4ef9-8bf4-b6c0f8efd865",
   "metadata": {},
   "outputs": [
    {
     "name": "stdout",
     "output_type": "stream",
     "text": [
      "22\n",
      "32\n",
      "22\n"
     ]
    }
   ],
   "source": [
    "x = 12\n",
    "y = 10\n",
    "\n",
    "z = x + y # ??\n",
    "x = x + y # ??\n",
    "y = z + y # ??\n",
    "\n",
    "print(x)\n",
    "print(y)\n",
    "print(z)"
   ]
  },
  {
   "cell_type": "code",
   "execution_count": 6,
   "id": "5f22f411-e4e2-4db6-bb4e-3b70ee13b0d8",
   "metadata": {},
   "outputs": [
    {
     "name": "stdout",
     "output_type": "stream",
     "text": [
      "2.5\n",
      "2.25\n",
      "2.5\n"
     ]
    }
   ],
   "source": [
    "x = 1 + (2 * 3) / 4\n",
    "y = (1 + 2) * (3 / 4)\n",
    "z = 1 + 2 * (3 / 4)\n",
    "\n",
    "print(x) # x is \n",
    "print(y) # y is \n",
    "print(z) # z is "
   ]
  },
  {
   "cell_type": "code",
   "execution_count": 7,
   "id": "be5e89dc-bc66-4864-aa08-2b4d5c7cc8b5",
   "metadata": {},
   "outputs": [
    {
     "name": "stdout",
     "output_type": "stream",
     "text": [
      "1\n",
      "13\n",
      "False\n",
      "1000\n",
      "7\n",
      "3\n"
     ]
    }
   ],
   "source": [
    "x = 10\n",
    "y = 3\n",
    "print(x % y)\n",
    "print(x + y)\n",
    "print(x < y)\n",
    "print(x ** y)\n",
    "print(x - y)\n",
    "print(y)"
   ]
  },
  {
   "cell_type": "code",
   "execution_count": 8,
   "id": "7fab7c1c-4bf1-44c1-9178-72e897a6b506",
   "metadata": {},
   "outputs": [
    {
     "name": "stdout",
     "output_type": "stream",
     "text": [
      "14\n",
      "15\n"
     ]
    }
   ],
   "source": [
    "from math import pi\n",
    "v = 14137\n",
    "r = (3 * v / (4 * pi))**(1/3)\n",
    "print(int(r))\n",
    "print(round(r))"
   ]
  },
  {
   "cell_type": "code",
   "execution_count": 9,
   "id": "ad0e2e29-439c-4f91-9216-a8b12ba36a0e",
   "metadata": {},
   "outputs": [
    {
     "name": "stdout",
     "output_type": "stream",
     "text": [
      "4188.790 cm3\n"
     ]
    }
   ],
   "source": [
    "from math import pi\n",
    "v = 4188.790204786391\n",
    "print(f\"{v:0.3f} cm3\")"
   ]
  },
  {
   "cell_type": "code",
   "execution_count": 10,
   "id": "a6c212c3-5e96-45e3-b16e-010071c0ef6e",
   "metadata": {},
   "outputs": [
    {
     "name": "stdout",
     "output_type": "stream",
     "text": [
      "Exactly 2 hours worked.\n"
     ]
    }
   ],
   "source": [
    "hours = 2\n",
    "\n",
    "if hours == 10 or hours > 10:\n",
    "    print(\"At least 10 hours worked!\")\n",
    "elif hours == 2:\n",
    "    print(\"Exactly 2 hours worked.\")\n",
    "else:\n",
    "    print(\"Less than 10 hours worked!\")\n"
   ]
  },
  {
   "cell_type": "code",
   "execution_count": 11,
   "id": "00e49485-1044-48c6-ab39-2035f5f2bd08",
   "metadata": {},
   "outputs": [
    {
     "name": "stdout",
     "output_type": "stream",
     "text": [
      "Joe\n",
      "Aled\n"
     ]
    }
   ],
   "source": [
    "x = 4\n",
    "if x > 0 and x < 5:\n",
    "    print(\"Joe\")\n",
    "if x > 0 or x < 5:\n",
    "    print(\"Aled\")\n",
    "if not(x > 0):\n",
    "    print(\"Sarah\")"
   ]
  },
  {
   "cell_type": "code",
   "execution_count": 12,
   "id": "aa51de8e-7723-4cbe-9568-299fedd5d966",
   "metadata": {},
   "outputs": [
    {
     "name": "stdout",
     "output_type": "stream",
     "text": [
      "X IS EVEN\n",
      "X IS odd\n",
      "X IS EVEN\n",
      "X IS odd\n",
      "X IS EVEN\n",
      "X IS odd\n",
      "X IS EVEN\n",
      "X IS odd\n",
      "X IS EVEN\n"
     ]
    }
   ],
   "source": [
    "for x in range(0,9):\n",
    "    if x%2 == 0:\n",
    "        print(\"X IS EVEN\")\n",
    "    else:\n",
    "        print(\"X IS odd\")\n"
   ]
  },
  {
   "cell_type": "code",
   "execution_count": 13,
   "id": "1081bbb3-ac1f-4ff7-935a-efa61d6efd3d",
   "metadata": {},
   "outputs": [
    {
     "name": "stdout",
     "output_type": "stream",
     "text": [
      "x is not equal to y\n",
      "x is greater than y\n"
     ]
    }
   ],
   "source": [
    "x = 5\n",
    "y = 4\n",
    "\n",
    "if x != y:                                 #line 1\n",
    "    print(\"x is not equal to y\")\n",
    "    \n",
    "    if(x > y):                             #line 4\n",
    "        print(\"x is greater than y\")\n",
    "    \n",
    "    else:                                  #line 7\n",
    "        print(\"x is less than y\")\n",
    "\n",
    "else:\n",
    "    print(\"<insert conclusion here>\")"
   ]
  },
  {
   "cell_type": "code",
   "execution_count": 14,
   "id": "7ebd15f1-47fe-4c8f-9687-74d3e562800e",
   "metadata": {},
   "outputs": [
    {
     "name": "stdout",
     "output_type": "stream",
     "text": [
      "London\n",
      "Tokyo\n",
      "['Beijing', 'Tokyo']\n",
      "['London', 'Beijing', 'Tokyo', 'Delhi']\n",
      "['London', 'Beijing', 'Tokyo']\n",
      "0\n"
     ]
    }
   ],
   "source": [
    "cities = ['New York', 'London', 'Beijing', 'Tokyo', 'Delhi']\n",
    "\n",
    "# Print out London from cities:\n",
    "print(cities[1])\n",
    "\n",
    "# Print out Tokyo using *negative* indexing:\n",
    "print(cities[-2])\n",
    "\n",
    "# Print out Beijing *and* Tokyo using a list slice\n",
    "print(cities[2:4])\n",
    "\n",
    "# Print out London to Delhi using a slice\n",
    "print(cities[1:])\n",
    "\n",
    "# Combine positive and negative indexing to print out London, Beijing and Tokyo using a list slice\n",
    "print(cities[1:4])\n",
    "\n",
    "# Print out the position of New York in the list by searching for it\n",
    "print(cities.index('New York'))"
   ]
  },
  {
   "cell_type": "code",
   "execution_count": 15,
   "id": "31b6e7ac-0dbf-4ca2-95a7-e69d1329e859",
   "metadata": {},
   "outputs": [
    {
     "ename": "IndexError",
     "evalue": "list index out of range",
     "output_type": "error",
     "traceback": [
      "\u001b[1;31m---------------------------------------------------------------------------\u001b[0m",
      "\u001b[1;31mIndexError\u001b[0m                                Traceback (most recent call last)",
      "Input \u001b[1;32mIn [15]\u001b[0m, in \u001b[0;36m<cell line: 2>\u001b[1;34m()\u001b[0m\n\u001b[0;32m      1\u001b[0m cities \u001b[38;5;241m=\u001b[39m [\u001b[38;5;124m'\u001b[39m\u001b[38;5;124mNew York\u001b[39m\u001b[38;5;124m'\u001b[39m, \u001b[38;5;124m'\u001b[39m\u001b[38;5;124mLondon\u001b[39m\u001b[38;5;124m'\u001b[39m, \u001b[38;5;124m'\u001b[39m\u001b[38;5;124mBeijing\u001b[39m\u001b[38;5;124m'\u001b[39m, \u001b[38;5;124m'\u001b[39m\u001b[38;5;124mTokyo\u001b[39m\u001b[38;5;124m'\u001b[39m, \u001b[38;5;124m'\u001b[39m\u001b[38;5;124mDelhi\u001b[39m\u001b[38;5;124m'\u001b[39m]\n\u001b[1;32m----> 2\u001b[0m \u001b[38;5;28mprint\u001b[39m(\u001b[43mcities\u001b[49m\u001b[43m[\u001b[49m\u001b[38;5;241;43m10\u001b[39;49m\u001b[43m]\u001b[49m)\n",
      "\u001b[1;31mIndexError\u001b[0m: list index out of range"
     ]
    }
   ],
   "source": [
    "cities = ['New York', 'London', 'Beijing', 'Tokyo', 'Delhi']\n",
    "print(cities[10])"
   ]
  },
  {
   "cell_type": "code",
   "execution_count": 16,
   "id": "e759f647-268f-42b0-bd4e-255b813a99a2",
   "metadata": {},
   "outputs": [
    {
     "name": "stdout",
     "output_type": "stream",
     "text": [
      "'Toronto' is not in list\n"
     ]
    }
   ],
   "source": [
    "cities = ['New York', 'London', 'Beijing', 'Tokyo', 'Delhi']\n",
    "try:\n",
    "    cities.index('Toronto')\n",
    "except ValueError as e:\n",
    "    print(e)"
   ]
  },
  {
   "cell_type": "code",
   "execution_count": 17,
   "id": "3025d064-5cd4-4f0e-b5e6-749416d99bec",
   "metadata": {},
   "outputs": [
    {
     "name": "stdout",
     "output_type": "stream",
     "text": [
      "['Tokyo', 'New York', 'London', 'Delhi', 'Beijing']\n"
     ]
    }
   ],
   "source": [
    "cities = ['New York', 'London', 'Beijing', 'Tokyo', 'Delhi']\n",
    "cities.sort(reverse=True)\n",
    "print(cities)"
   ]
  },
  {
   "cell_type": "code",
   "execution_count": 1,
   "id": "08487d03-0d11-4013-b95f-de9991d6afde",
   "metadata": {},
   "outputs": [
    {
     "name": "stdout",
     "output_type": "stream",
     "text": [
      "['Tokyo', 'New York', 'Toronto', 'London', 'Delhi', 'Beijing']\n"
     ]
    }
   ],
   "source": [
    "# Just in case you make a mistake...\n",
    "cities = ['Tokyo', 'New York', 'London', 'Delhi', 'Beijing']\n",
    "\n",
    "cities.insert(2,\"Toronto\")\n",
    "print(cities)"
   ]
  },
  {
   "cell_type": "code",
   "execution_count": 2,
   "id": "c4189913-fead-48f7-a0ba-da228f7137c6",
   "metadata": {},
   "outputs": [
    {
     "name": "stdout",
     "output_type": "stream",
     "text": [
      "New York\n",
      "['Tokyo', 'Toronto', 'London', 'Delhi', 'Beijing']\n"
     ]
    }
   ],
   "source": [
    "p = cities.pop(cities.index('New York'))\n",
    "print(p)\n",
    "print(cities)"
   ]
  },
  {
   "cell_type": "code",
   "execution_count": 3,
   "id": "77ebc134-ae7d-4faf-8769-49e364222425",
   "metadata": {},
   "outputs": [
    {
     "name": "stdout",
     "output_type": "stream",
     "text": [
      "莫斯科不在列表中。\n"
     ]
    }
   ],
   "source": [
    "cities = ['Tokyo', 'New York', 'London', 'Delhi', 'Beijing']\n",
    "cities.insert(2,\"Toronto\")\n",
    "\n",
    "if \"Moscow\" in cities:\n",
    "    print(\"莫斯科在列表中。\")\n",
    "else:\n",
    "    print(\"莫斯科不在列表中。\")"
   ]
  },
  {
   "cell_type": "code",
   "execution_count": null,
   "id": "08a9286c-7dae-42f1-92f1-13f1a3f81d43",
   "metadata": {},
   "outputs": [],
   "source": []
  }
 ],
 "metadata": {
  "kernelspec": {
   "display_name": "Python 3 (ipykernel)",
   "language": "python",
   "name": "python3"
  },
  "language_info": {
   "codemirror_mode": {
    "name": "ipython",
    "version": 3
   },
   "file_extension": ".py",
   "mimetype": "text/x-python",
   "name": "python",
   "nbconvert_exporter": "python",
   "pygments_lexer": "ipython3",
   "version": "3.9.12"
  }
 },
 "nbformat": 4,
 "nbformat_minor": 5
}
